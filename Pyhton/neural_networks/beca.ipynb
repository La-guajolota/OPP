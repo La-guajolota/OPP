{
 "cells": [
  {
   "cell_type": "markdown",
   "metadata": {},
   "source": [
    "***Base layer***"
   ]
  },
  {
   "cell_type": "code",
   "execution_count": null,
   "metadata": {},
   "outputs": [],
   "source": [
    "class layer:\n",
    "    def __init__(self):\n",
    "        self.input = None\n",
    "        self.out = None\n",
    "    \n",
    "    def foward(self,input):\n",
    "        #TODO: return output\n",
    "        pass\n",
    "\n",
    "    def backward(self, output_gradient,learning_rate):\n",
    "        #TODO: update parameters and return input gradient\n",
    "        pass"
   ]
  },
  {
   "cell_type": "markdown",
   "metadata": {},
   "source": []
  }
 ],
 "metadata": {
  "kernelspec": {
   "display_name": "Python 3",
   "language": "python",
   "name": "python3"
  },
  "language_info": {
   "codemirror_mode": {
    "name": "ipython",
    "version": 3
   },
   "file_extension": ".py",
   "mimetype": "text/x-python",
   "name": "python",
   "nbconvert_exporter": "python",
   "pygments_lexer": "ipython3",
   "version": "3.10.0"
  }
 },
 "nbformat": 4,
 "nbformat_minor": 2
}
