{
 "cells": [
  {
   "cell_type": "code",
   "execution_count": 9,
   "metadata": {},
   "outputs": [
    {
     "data": {
      "text/plain": [
       "array([[0, 0],\n",
       "       [0, 1],\n",
       "       [1, 1],\n",
       "       [1, 0]])"
      ]
     },
     "execution_count": 9,
     "metadata": {},
     "output_type": "execute_result"
    }
   ],
   "source": [
    "import numpy as np\n",
    "#assigne input values\n",
    "input_value = np.array([[0,0],[0,1],[1,1],[1,0]])\n",
    "input_value.shape\n",
    "input_value"
   ]
  },
  {
   "cell_type": "code",
   "execution_count": 10,
   "metadata": {},
   "outputs": [
    {
     "data": {
      "text/plain": [
       "(4, 1)"
      ]
     },
     "execution_count": 10,
     "metadata": {},
     "output_type": "execute_result"
    }
   ],
   "source": [
    "#assign output values\n",
    "output = np.array([0,1,1,0])\n",
    "output= output.reshape(4,1)\n",
    "output.shape"
   ]
  },
  {
   "cell_type": "code",
   "execution_count": 11,
   "metadata": {},
   "outputs": [
    {
     "data": {
      "text/plain": [
       "array([[0.1],\n",
       "       [0.2]])"
      ]
     },
     "execution_count": 11,
     "metadata": {},
     "output_type": "execute_result"
    }
   ],
   "source": [
    "#Assign weights\n",
    "weights = np.array([[0.1],[0.2]])\n",
    "weights"
   ]
  },
  {
   "cell_type": "code",
   "execution_count": 12,
   "metadata": {},
   "outputs": [],
   "source": [
    "#add bias\n",
    "bias = 0.3"
   ]
  },
  {
   "cell_type": "code",
   "execution_count": 13,
   "metadata": {},
   "outputs": [],
   "source": [
    "#activation function\n",
    "def sigmoid_func(x):\n",
    "    return 1/(1+np.exp(-x))"
   ]
  },
  {
   "cell_type": "code",
   "execution_count": 14,
   "metadata": {},
   "outputs": [],
   "source": [
    "#derivative of sigmoid function\n",
    "def der(x):\n",
    "    return sigmoid_func(x) * (1-sigmoid_func(x))"
   ]
  },
  {
   "cell_type": "code",
   "execution_count": 15,
   "metadata": {},
   "outputs": [
    {
     "name": "stdout",
     "output_type": "stream",
     "text": [
      "[[-0.41953547]\n",
      " [ 8.98887811]]\n",
      "[-4.19706344]\n"
     ]
    }
   ],
   "source": [
    "#updating weiths\n",
    "for epochs in range(10000):\n",
    "    input_arr = input_value\n",
    "\n",
    "    weighted_sum = np.dot(input_arr, weights) + bias\n",
    "    first_output = sigmoid_func(weighted_sum)\n",
    "\n",
    "    error = first_output - output\n",
    "    #mean square error\n",
    "    total_error = np.square(np.subtract(first_output,output)).mean() \n",
    "    #print(total error)\n",
    "\n",
    "    first_der = error\n",
    "    second_der = der(first_output)\n",
    "    derivative = first_der*second_der\n",
    "\n",
    "    t_input = input_value.T\n",
    "    final_derivative = np.dot(t_input,derivative)\n",
    "\n",
    "    #update weight\n",
    "    weights = weights - 0.05 * final_derivative\n",
    "\n",
    "    #update bias\n",
    "    for i in derivative:\n",
    "        bias = bias - 0.05 * i\n",
    "    \n",
    "print(weights)\n",
    "print(bias)"
   ]
  },
  {
   "cell_type": "code",
   "execution_count": 16,
   "metadata": {},
   "outputs": [
    {
     "name": "stdout",
     "output_type": "stream",
     "text": [
      "[0.99177089]\n"
     ]
    }
   ],
   "source": [
    "#predictions\n",
    "pred = np.array([0,1])\n",
    "\n",
    "result = np.dot(pred,weights)+bias\n",
    "\n",
    "res = sigmoid_func(result)\n",
    "\n",
    "print(res)"
   ]
  }
 ],
 "metadata": {
  "kernelspec": {
   "display_name": "Python 3",
   "language": "python",
   "name": "python3"
  },
  "language_info": {
   "codemirror_mode": {
    "name": "ipython",
    "version": 3
   },
   "file_extension": ".py",
   "mimetype": "text/x-python",
   "name": "python",
   "nbconvert_exporter": "python",
   "pygments_lexer": "ipython3",
   "version": "3.10.0"
  }
 },
 "nbformat": 4,
 "nbformat_minor": 2
}
